{
  "nbformat": 4,
  "nbformat_minor": 0,
  "metadata": {
    "colab": {
      "name": "memory_networks",
      "provenance": []
    },
    "kernelspec": {
      "name": "python3",
      "display_name": "Python 3"
    },
    "language_info": {
      "name": "python"
    },
    "accelerator": "GPU"
  },
  "cells": [
    {
      "cell_type": "markdown",
      "metadata": {
        "id": "7v4jMLaWcbe6"
      },
      "source": [
        "## Imports"
      ]
    },
    {
      "cell_type": "code",
      "metadata": {
        "id": "eVlogkVqcZuS"
      },
      "source": [
        "import pickle\n",
        "import numpy as np\n",
        "\n",
        "from tensorflow.keras.preprocessing.sequence import pad_sequences\n",
        "from tensorflow.keras.preprocessing.text import Tokenizer\n",
        "\n",
        "from tensorflow.keras.models import Sequential, Model\n",
        "from tensorflow.keras.layers import Embedding\n",
        "from tensorflow.keras.layers import Input, Activation, Dense, Permute, Dropout\n",
        "from tensorflow.keras.layers import add, dot, concatenate\n",
        "from tensorflow.keras.layers import LSTM"
      ],
      "execution_count": null,
      "outputs": []
    },
    {
      "cell_type": "markdown",
      "metadata": {
        "id": "JwEHJflvcZT-"
      },
      "source": [
        "## Single Supporting Fact story"
      ]
    },
    {
      "cell_type": "code",
      "metadata": {
        "id": "AZQaL4vqWpPs"
      },
      "source": [
        "with open(\"drive/MyDrive/data_science/memory_networks/train_qa.txt\", \"rb\") as fp:   # Unpickling\n",
        "    train_data =  pickle.load(fp)\n",
        "\n",
        "with open(\"test_qa.txt\", \"rb\") as fp:   # Unpickling\n",
        "    test_data =  pickle.load(fp)"
      ],
      "execution_count": 15,
      "outputs": []
    },
    {
      "cell_type": "code",
      "metadata": {
        "id": "rFHZSk-OWpSa"
      },
      "source": [
        "all_data = test_data + train_data\n",
        "\n",
        "\n",
        "# Create a set that holds the vocab words\n",
        "vocab = set()\n",
        "for story, question , answer in all_data:\n",
        "    vocab = vocab.union(set(story))\n",
        "    vocab = vocab.union(set(question))\n",
        "\n",
        "# Add no and yes as they are the vocabulary of answers\n",
        "vocab.add('no')\n",
        "vocab.add('yes')\n",
        "\n",
        "# Extra space to hold a 0 for Keras's pad_sequences\n",
        "vocab_len = len(vocab) + 1\n",
        "\n",
        "# Max story length and max question length\n",
        "max_story_len = max([len(data[0]) for data in all_data])\n",
        "max_question_len = max([len(data[1]) for data in all_data])\n",
        "\n",
        "# Reserve 0 for pad_sequences\n",
        "vocab_size = len(vocab) + 1"
      ],
      "execution_count": 19,
      "outputs": []
    },
    {
      "cell_type": "code",
      "metadata": {
        "id": "NYltcOreWpWD"
      },
      "source": [
        "# integer encode sequences of words\n",
        "tokenizer = Tokenizer(filters=[])\n",
        "tokenizer.fit_on_texts(vocab)\n",
        "\n",
        "train_story_text = []\n",
        "train_question_text = []\n",
        "train_answers = []\n",
        "\n",
        "for story,question,answer in train_data:\n",
        "    train_story_text.append(story)\n",
        "    train_question_text.append(question)\n",
        "\n",
        "train_story_seq = tokenizer.texts_to_sequences(train_story_text)"
      ],
      "execution_count": 21,
      "outputs": []
    },
    {
      "cell_type": "code",
      "metadata": {
        "id": "J-Jppn5cWpYr"
      },
      "source": [
        "def vectorize_stories(data, word_index=tokenizer.word_index, max_story_len=max_story_len,max_question_len=max_question_len):\n",
        "    # Vectorize stories by storing them as sequences\n",
        "    # X = STORIES\n",
        "    X = []\n",
        "    # Xq = QUERY/QUESTION\n",
        "    Xq = []\n",
        "    # Y = CORRECT ANSWER\n",
        "    Y = []\n",
        "    \n",
        "    \n",
        "    for story, query, answer in data:\n",
        "        \n",
        "        # Grab the word index for every word in story\n",
        "        x = [word_index[word.lower()] for word in story]\n",
        "        # Grab the word index for every word in query\n",
        "        xq = [word_index[word.lower()] for word in query]\n",
        "        \n",
        "        y = np.zeros(len(word_index) + 1)\n",
        "        y[word_index[answer]] = 1\n",
        "        \n",
        "        # Append each set of story,query, and answer to their respective holding lists\n",
        "        X.append(x)\n",
        "        Xq.append(xq)\n",
        "        Y.append(y)\n",
        "\n",
        "    return (pad_sequences(X, maxlen=max_story_len),pad_sequences(Xq, maxlen=max_question_len), np.array(Y))"
      ],
      "execution_count": 22,
      "outputs": []
    },
    {
      "cell_type": "code",
      "metadata": {
        "id": "Cp0g0CcZWpbL"
      },
      "source": [
        "inputs_train, queries_train, answers_train = vectorize_stories(train_data)\n",
        "\n",
        "inputs_test, queries_test, answers_test = vectorize_stories(test_data)"
      ],
      "execution_count": 26,
      "outputs": []
    },
    {
      "cell_type": "code",
      "metadata": {
        "id": "pBD1MdF_Wpdz"
      },
      "source": [
        "input_sequence = Input((max_story_len,))\n",
        "question = Input((max_question_len,))"
      ],
      "execution_count": 27,
      "outputs": []
    },
    {
      "cell_type": "markdown",
      "metadata": {
        "id": "Pv9AG9PcXzkX"
      },
      "source": [
        "### Model"
      ]
    },
    {
      "cell_type": "code",
      "metadata": {
        "colab": {
          "base_uri": "https://localhost:8080/"
        },
        "id": "VgjJ7Iv4WpgN",
        "outputId": "34529331-f8dd-4b04-ca01-6c484352658c"
      },
      "source": [
        "# Input gets embedded to a sequence of vectors\n",
        "input_encoder_m = Sequential()\n",
        "input_encoder_m.add(Embedding(input_dim=vocab_size,output_dim=64))\n",
        "input_encoder_m.add(Dropout(0.3))\n",
        "\n",
        "# This encoder will output:\n",
        "# (samples, story_maxlen, embedding_dim)\n",
        "\n",
        "# embed the input into a sequence of vectors of size query_maxlen\n",
        "input_encoder_c = Sequential()\n",
        "input_encoder_c.add(Embedding(input_dim=vocab_size,output_dim=max_question_len))\n",
        "input_encoder_c.add(Dropout(0.3))\n",
        "# output: (samples, story_maxlen, query_maxlen)\n",
        "\n",
        "# embed the question into a sequence of vectors\n",
        "question_encoder = Sequential()\n",
        "question_encoder.add(Embedding(input_dim=vocab_size,\n",
        "                               output_dim=64,\n",
        "                               input_length=max_question_len))\n",
        "question_encoder.add(Dropout(0.3))\n",
        "# output: (samples, query_maxlen, embedding_dim)\n",
        "\n",
        "# encode input sequence and questions (which are indices)\n",
        "# to sequences of dense vectors\n",
        "input_encoded_m = input_encoder_m(input_sequence)\n",
        "input_encoded_c = input_encoder_c(input_sequence)\n",
        "question_encoded = question_encoder(question)\n",
        "\n",
        "# shape: `(samples, story_maxlen, query_maxlen)`\n",
        "match = dot([input_encoded_m, question_encoded], axes=(2, 2))\n",
        "match = Activation('softmax')(match)\n",
        "\n",
        "# add the match matrix with the second input vector sequence\n",
        "response = add([match, input_encoded_c])  # (samples, story_maxlen, query_maxlen)\n",
        "response = Permute((2, 1))(response)  # (samples, query_maxlen, story_maxlen)\n",
        "\n",
        "# concatenate the match matrix with the question vector sequence\n",
        "answer = concatenate([response, question_encoded])\n",
        "\n",
        "# Reduce with RNN (LSTM)\n",
        "answer = LSTM(32)(answer)  # (samples, 32)\n",
        "\n",
        "# Regularization with Dropout\n",
        "answer = Dropout(0.5)(answer)\n",
        "answer = Dense(vocab_size)(answer)  # (samples, vocab_size)\n",
        "\n",
        "# we output a probability distribution over the vocabulary\n",
        "answer = Activation('softmax')(answer)\n",
        "\n",
        "# build the final model\n",
        "model = Model([input_sequence, question], answer)\n",
        "model.compile(optimizer='rmsprop', loss='categorical_crossentropy',\n",
        "              metrics=['accuracy'])\n",
        "\n",
        "model.summary()"
      ],
      "execution_count": 28,
      "outputs": [
        {
          "output_type": "stream",
          "text": [
            "Model: \"model\"\n",
            "__________________________________________________________________________________________________\n",
            "Layer (type)                    Output Shape         Param #     Connected to                     \n",
            "==================================================================================================\n",
            "input_1 (InputLayer)            [(None, 156)]        0                                            \n",
            "__________________________________________________________________________________________________\n",
            "input_2 (InputLayer)            [(None, 6)]          0                                            \n",
            "__________________________________________________________________________________________________\n",
            "sequential_3 (Sequential)       (None, None, 64)     2432        input_1[0][0]                    \n",
            "__________________________________________________________________________________________________\n",
            "sequential_5 (Sequential)       (None, 6, 64)        2432        input_2[0][0]                    \n",
            "__________________________________________________________________________________________________\n",
            "dot (Dot)                       (None, 156, 6)       0           sequential_3[0][0]               \n",
            "                                                                 sequential_5[0][0]               \n",
            "__________________________________________________________________________________________________\n",
            "activation (Activation)         (None, 156, 6)       0           dot[0][0]                        \n",
            "__________________________________________________________________________________________________\n",
            "sequential_4 (Sequential)       (None, None, 6)      228         input_1[0][0]                    \n",
            "__________________________________________________________________________________________________\n",
            "add (Add)                       (None, 156, 6)       0           activation[0][0]                 \n",
            "                                                                 sequential_4[0][0]               \n",
            "__________________________________________________________________________________________________\n",
            "permute (Permute)               (None, 6, 156)       0           add[0][0]                        \n",
            "__________________________________________________________________________________________________\n",
            "concatenate (Concatenate)       (None, 6, 220)       0           permute[0][0]                    \n",
            "                                                                 sequential_5[0][0]               \n",
            "__________________________________________________________________________________________________\n",
            "lstm (LSTM)                     (None, 32)           32384       concatenate[0][0]                \n",
            "__________________________________________________________________________________________________\n",
            "dropout_6 (Dropout)             (None, 32)           0           lstm[0][0]                       \n",
            "__________________________________________________________________________________________________\n",
            "dense (Dense)                   (None, 38)           1254        dropout_6[0][0]                  \n",
            "__________________________________________________________________________________________________\n",
            "activation_1 (Activation)       (None, 38)           0           dense[0][0]                      \n",
            "==================================================================================================\n",
            "Total params: 38,730\n",
            "Trainable params: 38,730\n",
            "Non-trainable params: 0\n",
            "__________________________________________________________________________________________________\n"
          ],
          "name": "stdout"
        }
      ]
    },
    {
      "cell_type": "code",
      "metadata": {
        "colab": {
          "base_uri": "https://localhost:8080/"
        },
        "id": "G7fqfbLIYHB9",
        "outputId": "45eef27b-7431-44d1-e8dc-c1aefd4fd9d6"
      },
      "source": [
        "# train\n",
        "history = model.fit([inputs_train, queries_train], answers_train,batch_size=32,epochs=120,validation_data=([inputs_test, queries_test], answers_test))"
      ],
      "execution_count": 29,
      "outputs": [
        {
          "output_type": "stream",
          "text": [
            "Epoch 1/120\n",
            "313/313 [==============================] - 8s 17ms/step - loss: 0.8885 - accuracy: 0.4967 - val_loss: 0.6978 - val_accuracy: 0.4970\n",
            "Epoch 2/120\n",
            "313/313 [==============================] - 5s 16ms/step - loss: 0.7033 - accuracy: 0.5017 - val_loss: 0.6945 - val_accuracy: 0.4970\n",
            "Epoch 3/120\n",
            "313/313 [==============================] - 5s 16ms/step - loss: 0.6959 - accuracy: 0.5005 - val_loss: 0.6938 - val_accuracy: 0.4970\n",
            "Epoch 4/120\n",
            "313/313 [==============================] - 5s 16ms/step - loss: 0.6946 - accuracy: 0.5067 - val_loss: 0.6939 - val_accuracy: 0.4970\n",
            "Epoch 5/120\n",
            "313/313 [==============================] - 5s 15ms/step - loss: 0.6951 - accuracy: 0.4952 - val_loss: 0.6936 - val_accuracy: 0.4970\n",
            "Epoch 6/120\n",
            "313/313 [==============================] - 5s 16ms/step - loss: 0.6949 - accuracy: 0.4935 - val_loss: 0.6936 - val_accuracy: 0.5030\n",
            "Epoch 7/120\n",
            "313/313 [==============================] - 5s 15ms/step - loss: 0.6946 - accuracy: 0.4973 - val_loss: 0.6938 - val_accuracy: 0.4970\n",
            "Epoch 8/120\n",
            "313/313 [==============================] - 5s 15ms/step - loss: 0.6939 - accuracy: 0.5030 - val_loss: 0.6964 - val_accuracy: 0.4970\n",
            "Epoch 9/120\n",
            "313/313 [==============================] - 5s 16ms/step - loss: 0.6946 - accuracy: 0.5020 - val_loss: 0.6945 - val_accuracy: 0.4970\n",
            "Epoch 10/120\n",
            "313/313 [==============================] - 5s 16ms/step - loss: 0.6944 - accuracy: 0.4900 - val_loss: 0.6946 - val_accuracy: 0.5050\n",
            "Epoch 11/120\n",
            "313/313 [==============================] - 5s 15ms/step - loss: 0.6910 - accuracy: 0.5176 - val_loss: 0.6886 - val_accuracy: 0.5290\n",
            "Epoch 12/120\n",
            "313/313 [==============================] - 5s 15ms/step - loss: 0.6731 - accuracy: 0.5765 - val_loss: 0.6583 - val_accuracy: 0.6470\n",
            "Epoch 13/120\n",
            "313/313 [==============================] - 5s 15ms/step - loss: 0.6487 - accuracy: 0.6369 - val_loss: 0.6293 - val_accuracy: 0.6570\n",
            "Epoch 14/120\n",
            "313/313 [==============================] - 5s 15ms/step - loss: 0.6300 - accuracy: 0.6533 - val_loss: 0.6183 - val_accuracy: 0.6710\n",
            "Epoch 15/120\n",
            "313/313 [==============================] - 5s 16ms/step - loss: 0.6211 - accuracy: 0.6642 - val_loss: 0.6147 - val_accuracy: 0.6630\n",
            "Epoch 16/120\n",
            "313/313 [==============================] - 5s 15ms/step - loss: 0.6181 - accuracy: 0.6639 - val_loss: 0.6120 - val_accuracy: 0.6670\n",
            "Epoch 17/120\n",
            "313/313 [==============================] - 5s 15ms/step - loss: 0.6143 - accuracy: 0.6668 - val_loss: 0.6228 - val_accuracy: 0.6600\n",
            "Epoch 18/120\n",
            "313/313 [==============================] - 5s 16ms/step - loss: 0.6109 - accuracy: 0.6729 - val_loss: 0.6081 - val_accuracy: 0.6740\n",
            "Epoch 19/120\n",
            "313/313 [==============================] - 5s 15ms/step - loss: 0.6052 - accuracy: 0.6766 - val_loss: 0.6026 - val_accuracy: 0.6730\n",
            "Epoch 20/120\n",
            "313/313 [==============================] - 5s 15ms/step - loss: 0.6068 - accuracy: 0.6764 - val_loss: 0.5971 - val_accuracy: 0.6720\n",
            "Epoch 21/120\n",
            "313/313 [==============================] - 5s 16ms/step - loss: 0.5967 - accuracy: 0.6810 - val_loss: 0.5989 - val_accuracy: 0.6780\n",
            "Epoch 22/120\n",
            "313/313 [==============================] - 5s 15ms/step - loss: 0.5825 - accuracy: 0.6996 - val_loss: 0.5787 - val_accuracy: 0.6870\n",
            "Epoch 23/120\n",
            "313/313 [==============================] - 5s 16ms/step - loss: 0.5748 - accuracy: 0.7020 - val_loss: 0.5725 - val_accuracy: 0.6950\n",
            "Epoch 24/120\n",
            "313/313 [==============================] - 5s 15ms/step - loss: 0.5637 - accuracy: 0.7096 - val_loss: 0.5586 - val_accuracy: 0.7040\n",
            "Epoch 25/120\n",
            "313/313 [==============================] - 5s 15ms/step - loss: 0.5496 - accuracy: 0.7140 - val_loss: 0.5599 - val_accuracy: 0.7140\n",
            "Epoch 26/120\n",
            "313/313 [==============================] - 5s 16ms/step - loss: 0.5416 - accuracy: 0.7280 - val_loss: 0.5469 - val_accuracy: 0.7140\n",
            "Epoch 27/120\n",
            "313/313 [==============================] - 5s 15ms/step - loss: 0.5302 - accuracy: 0.7331 - val_loss: 0.5479 - val_accuracy: 0.7170\n",
            "Epoch 28/120\n",
            "313/313 [==============================] - 5s 15ms/step - loss: 0.5233 - accuracy: 0.7408 - val_loss: 0.5313 - val_accuracy: 0.7270\n",
            "Epoch 29/120\n",
            "313/313 [==============================] - 5s 16ms/step - loss: 0.5154 - accuracy: 0.7471 - val_loss: 0.5659 - val_accuracy: 0.7050\n",
            "Epoch 30/120\n",
            "313/313 [==============================] - 5s 15ms/step - loss: 0.4990 - accuracy: 0.7584 - val_loss: 0.5138 - val_accuracy: 0.7370\n",
            "Epoch 31/120\n",
            "313/313 [==============================] - 5s 15ms/step - loss: 0.4964 - accuracy: 0.7578 - val_loss: 0.5125 - val_accuracy: 0.7230\n",
            "Epoch 32/120\n",
            "313/313 [==============================] - 5s 15ms/step - loss: 0.4847 - accuracy: 0.7646 - val_loss: 0.5033 - val_accuracy: 0.7480\n",
            "Epoch 33/120\n",
            "313/313 [==============================] - 5s 16ms/step - loss: 0.4852 - accuracy: 0.7601 - val_loss: 0.4915 - val_accuracy: 0.7490\n",
            "Epoch 34/120\n",
            "313/313 [==============================] - 5s 16ms/step - loss: 0.4779 - accuracy: 0.7705 - val_loss: 0.5327 - val_accuracy: 0.7490\n",
            "Epoch 35/120\n",
            "313/313 [==============================] - 5s 16ms/step - loss: 0.4736 - accuracy: 0.7669 - val_loss: 0.4950 - val_accuracy: 0.7480\n",
            "Epoch 36/120\n",
            "313/313 [==============================] - 5s 16ms/step - loss: 0.4679 - accuracy: 0.7693 - val_loss: 0.4772 - val_accuracy: 0.7610\n",
            "Epoch 37/120\n",
            "313/313 [==============================] - 5s 16ms/step - loss: 0.4630 - accuracy: 0.7704 - val_loss: 0.4922 - val_accuracy: 0.7460\n",
            "Epoch 38/120\n",
            "313/313 [==============================] - 5s 16ms/step - loss: 0.4601 - accuracy: 0.7746 - val_loss: 0.4743 - val_accuracy: 0.7620\n",
            "Epoch 39/120\n",
            "313/313 [==============================] - 5s 16ms/step - loss: 0.4571 - accuracy: 0.7700 - val_loss: 0.4691 - val_accuracy: 0.7660\n",
            "Epoch 40/120\n",
            "313/313 [==============================] - 5s 16ms/step - loss: 0.4529 - accuracy: 0.7787 - val_loss: 0.4749 - val_accuracy: 0.7640\n",
            "Epoch 41/120\n",
            "313/313 [==============================] - 5s 16ms/step - loss: 0.4463 - accuracy: 0.7834 - val_loss: 0.4536 - val_accuracy: 0.7750\n",
            "Epoch 42/120\n",
            "313/313 [==============================] - 5s 16ms/step - loss: 0.4421 - accuracy: 0.7873 - val_loss: 0.4711 - val_accuracy: 0.7820\n",
            "Epoch 43/120\n",
            "313/313 [==============================] - 5s 16ms/step - loss: 0.4318 - accuracy: 0.7914 - val_loss: 0.4567 - val_accuracy: 0.7770\n",
            "Epoch 44/120\n",
            "313/313 [==============================] - 5s 15ms/step - loss: 0.4335 - accuracy: 0.7939 - val_loss: 0.4504 - val_accuracy: 0.7690\n",
            "Epoch 45/120\n",
            "313/313 [==============================] - 5s 16ms/step - loss: 0.4274 - accuracy: 0.7938 - val_loss: 0.4456 - val_accuracy: 0.7810\n",
            "Epoch 46/120\n",
            "313/313 [==============================] - 5s 16ms/step - loss: 0.4230 - accuracy: 0.7959 - val_loss: 0.4517 - val_accuracy: 0.7700\n",
            "Epoch 47/120\n",
            "313/313 [==============================] - 5s 16ms/step - loss: 0.4198 - accuracy: 0.8007 - val_loss: 0.4604 - val_accuracy: 0.7720\n",
            "Epoch 48/120\n",
            "313/313 [==============================] - 5s 16ms/step - loss: 0.4116 - accuracy: 0.8020 - val_loss: 0.4488 - val_accuracy: 0.7780\n",
            "Epoch 49/120\n",
            "313/313 [==============================] - 5s 16ms/step - loss: 0.4063 - accuracy: 0.8036 - val_loss: 0.4357 - val_accuracy: 0.7860\n",
            "Epoch 50/120\n",
            "313/313 [==============================] - 5s 16ms/step - loss: 0.4059 - accuracy: 0.8051 - val_loss: 0.4475 - val_accuracy: 0.7860\n",
            "Epoch 51/120\n",
            "313/313 [==============================] - 5s 16ms/step - loss: 0.4000 - accuracy: 0.8120 - val_loss: 0.4311 - val_accuracy: 0.7920\n",
            "Epoch 52/120\n",
            "313/313 [==============================] - 5s 16ms/step - loss: 0.3906 - accuracy: 0.8113 - val_loss: 0.4705 - val_accuracy: 0.7760\n",
            "Epoch 53/120\n",
            "313/313 [==============================] - 5s 15ms/step - loss: 0.3893 - accuracy: 0.8194 - val_loss: 0.4437 - val_accuracy: 0.7920\n",
            "Epoch 54/120\n",
            "313/313 [==============================] - 5s 16ms/step - loss: 0.3803 - accuracy: 0.8225 - val_loss: 0.5436 - val_accuracy: 0.7560\n",
            "Epoch 55/120\n",
            "313/313 [==============================] - 5s 16ms/step - loss: 0.3778 - accuracy: 0.8223 - val_loss: 0.4538 - val_accuracy: 0.7960\n",
            "Epoch 56/120\n",
            "313/313 [==============================] - 5s 16ms/step - loss: 0.3781 - accuracy: 0.8221 - val_loss: 0.4392 - val_accuracy: 0.7850\n",
            "Epoch 57/120\n",
            "313/313 [==============================] - 5s 16ms/step - loss: 0.3703 - accuracy: 0.8330 - val_loss: 0.4454 - val_accuracy: 0.8030\n",
            "Epoch 58/120\n",
            "313/313 [==============================] - 5s 16ms/step - loss: 0.3691 - accuracy: 0.8309 - val_loss: 0.4329 - val_accuracy: 0.7870\n",
            "Epoch 59/120\n",
            "313/313 [==============================] - 5s 16ms/step - loss: 0.3662 - accuracy: 0.8288 - val_loss: 0.4326 - val_accuracy: 0.7960\n",
            "Epoch 60/120\n",
            "313/313 [==============================] - 5s 16ms/step - loss: 0.3559 - accuracy: 0.8424 - val_loss: 0.4460 - val_accuracy: 0.7950\n",
            "Epoch 61/120\n",
            "313/313 [==============================] - 5s 16ms/step - loss: 0.3475 - accuracy: 0.8444 - val_loss: 0.4845 - val_accuracy: 0.7920\n",
            "Epoch 62/120\n",
            "313/313 [==============================] - 5s 16ms/step - loss: 0.3500 - accuracy: 0.8438 - val_loss: 0.4296 - val_accuracy: 0.7930\n",
            "Epoch 63/120\n",
            "313/313 [==============================] - 5s 16ms/step - loss: 0.3430 - accuracy: 0.8455 - val_loss: 0.4425 - val_accuracy: 0.7930\n",
            "Epoch 64/120\n",
            "313/313 [==============================] - 5s 16ms/step - loss: 0.3405 - accuracy: 0.8496 - val_loss: 0.4569 - val_accuracy: 0.7910\n",
            "Epoch 65/120\n",
            "313/313 [==============================] - 5s 16ms/step - loss: 0.3402 - accuracy: 0.8494 - val_loss: 0.4278 - val_accuracy: 0.7940\n",
            "Epoch 66/120\n",
            "313/313 [==============================] - 5s 16ms/step - loss: 0.3331 - accuracy: 0.8516 - val_loss: 0.4459 - val_accuracy: 0.7910\n",
            "Epoch 67/120\n",
            "313/313 [==============================] - 5s 16ms/step - loss: 0.3357 - accuracy: 0.8527 - val_loss: 0.4584 - val_accuracy: 0.7990\n",
            "Epoch 68/120\n",
            "313/313 [==============================] - 5s 16ms/step - loss: 0.3338 - accuracy: 0.8524 - val_loss: 0.5075 - val_accuracy: 0.7840\n",
            "Epoch 69/120\n",
            "313/313 [==============================] - 5s 16ms/step - loss: 0.3311 - accuracy: 0.8547 - val_loss: 0.4450 - val_accuracy: 0.7960\n",
            "Epoch 70/120\n",
            "313/313 [==============================] - 5s 17ms/step - loss: 0.3299 - accuracy: 0.8547 - val_loss: 0.4661 - val_accuracy: 0.8020\n",
            "Epoch 71/120\n",
            "313/313 [==============================] - 5s 16ms/step - loss: 0.3224 - accuracy: 0.8565 - val_loss: 0.4692 - val_accuracy: 0.7960\n",
            "Epoch 72/120\n",
            "313/313 [==============================] - 5s 16ms/step - loss: 0.3216 - accuracy: 0.8605 - val_loss: 0.4806 - val_accuracy: 0.7940\n",
            "Epoch 73/120\n",
            "313/313 [==============================] - 5s 16ms/step - loss: 0.3162 - accuracy: 0.8650 - val_loss: 0.4716 - val_accuracy: 0.7990\n",
            "Epoch 74/120\n",
            "313/313 [==============================] - 5s 16ms/step - loss: 0.3176 - accuracy: 0.8611 - val_loss: 0.4947 - val_accuracy: 0.7910\n",
            "Epoch 75/120\n",
            "313/313 [==============================] - 5s 16ms/step - loss: 0.3168 - accuracy: 0.8624 - val_loss: 0.4617 - val_accuracy: 0.7890\n",
            "Epoch 76/120\n",
            "313/313 [==============================] - 5s 16ms/step - loss: 0.3126 - accuracy: 0.8647 - val_loss: 0.4629 - val_accuracy: 0.7980\n",
            "Epoch 77/120\n",
            "313/313 [==============================] - 5s 16ms/step - loss: 0.3114 - accuracy: 0.8646 - val_loss: 0.5401 - val_accuracy: 0.7920\n",
            "Epoch 78/120\n",
            "313/313 [==============================] - 5s 16ms/step - loss: 0.3051 - accuracy: 0.8675 - val_loss: 0.4714 - val_accuracy: 0.7860\n",
            "Epoch 79/120\n",
            "313/313 [==============================] - 5s 16ms/step - loss: 0.3063 - accuracy: 0.8672 - val_loss: 0.4876 - val_accuracy: 0.7760\n",
            "Epoch 80/120\n",
            "313/313 [==============================] - 5s 16ms/step - loss: 0.3057 - accuracy: 0.8709 - val_loss: 0.4868 - val_accuracy: 0.7960\n",
            "Epoch 81/120\n",
            "313/313 [==============================] - 5s 16ms/step - loss: 0.3020 - accuracy: 0.8708 - val_loss: 0.5258 - val_accuracy: 0.7940\n",
            "Epoch 82/120\n",
            "313/313 [==============================] - 5s 16ms/step - loss: 0.2990 - accuracy: 0.8679 - val_loss: 0.5253 - val_accuracy: 0.7930\n",
            "Epoch 83/120\n",
            "313/313 [==============================] - 5s 16ms/step - loss: 0.2964 - accuracy: 0.8716 - val_loss: 0.5303 - val_accuracy: 0.7940\n",
            "Epoch 84/120\n",
            "313/313 [==============================] - 5s 16ms/step - loss: 0.2964 - accuracy: 0.8722 - val_loss: 0.4979 - val_accuracy: 0.7860\n",
            "Epoch 85/120\n",
            "313/313 [==============================] - 5s 16ms/step - loss: 0.2902 - accuracy: 0.8729 - val_loss: 0.4880 - val_accuracy: 0.7950\n",
            "Epoch 86/120\n",
            "313/313 [==============================] - 5s 16ms/step - loss: 0.2907 - accuracy: 0.8794 - val_loss: 0.4888 - val_accuracy: 0.7870\n",
            "Epoch 87/120\n",
            "313/313 [==============================] - 5s 16ms/step - loss: 0.2888 - accuracy: 0.8772 - val_loss: 0.5295 - val_accuracy: 0.7880\n",
            "Epoch 88/120\n",
            "313/313 [==============================] - 5s 16ms/step - loss: 0.2846 - accuracy: 0.8758 - val_loss: 0.5104 - val_accuracy: 0.7810\n",
            "Epoch 89/120\n",
            "313/313 [==============================] - 5s 16ms/step - loss: 0.2829 - accuracy: 0.8786 - val_loss: 0.5097 - val_accuracy: 0.7950\n",
            "Epoch 90/120\n",
            "313/313 [==============================] - 5s 16ms/step - loss: 0.2865 - accuracy: 0.8782 - val_loss: 0.5440 - val_accuracy: 0.7870\n",
            "Epoch 91/120\n",
            "313/313 [==============================] - 5s 16ms/step - loss: 0.2787 - accuracy: 0.8813 - val_loss: 0.5224 - val_accuracy: 0.7850\n",
            "Epoch 92/120\n",
            "313/313 [==============================] - 5s 16ms/step - loss: 0.2775 - accuracy: 0.8815 - val_loss: 0.5463 - val_accuracy: 0.7980\n",
            "Epoch 93/120\n",
            "313/313 [==============================] - 5s 16ms/step - loss: 0.2760 - accuracy: 0.8815 - val_loss: 0.5765 - val_accuracy: 0.7790\n",
            "Epoch 94/120\n",
            "313/313 [==============================] - 5s 16ms/step - loss: 0.2673 - accuracy: 0.8878 - val_loss: 0.5447 - val_accuracy: 0.7850\n",
            "Epoch 95/120\n",
            "313/313 [==============================] - 5s 16ms/step - loss: 0.2658 - accuracy: 0.8865 - val_loss: 0.5466 - val_accuracy: 0.7840\n",
            "Epoch 96/120\n",
            "313/313 [==============================] - 5s 17ms/step - loss: 0.2730 - accuracy: 0.8851 - val_loss: 0.5360 - val_accuracy: 0.7850\n",
            "Epoch 97/120\n",
            "313/313 [==============================] - 5s 16ms/step - loss: 0.2661 - accuracy: 0.8887 - val_loss: 0.5623 - val_accuracy: 0.7940\n",
            "Epoch 98/120\n",
            "313/313 [==============================] - 5s 16ms/step - loss: 0.2611 - accuracy: 0.8900 - val_loss: 0.5580 - val_accuracy: 0.7950\n",
            "Epoch 99/120\n",
            "313/313 [==============================] - 5s 16ms/step - loss: 0.2595 - accuracy: 0.8883 - val_loss: 0.5719 - val_accuracy: 0.7900\n",
            "Epoch 100/120\n",
            "313/313 [==============================] - 5s 16ms/step - loss: 0.2647 - accuracy: 0.8890 - val_loss: 0.5384 - val_accuracy: 0.7920\n",
            "Epoch 101/120\n",
            "313/313 [==============================] - 5s 16ms/step - loss: 0.2647 - accuracy: 0.8905 - val_loss: 0.5312 - val_accuracy: 0.7900\n",
            "Epoch 102/120\n",
            "313/313 [==============================] - 5s 16ms/step - loss: 0.2639 - accuracy: 0.8897 - val_loss: 0.5654 - val_accuracy: 0.7860\n",
            "Epoch 103/120\n",
            "313/313 [==============================] - 5s 16ms/step - loss: 0.2594 - accuracy: 0.8902 - val_loss: 0.5598 - val_accuracy: 0.7940\n",
            "Epoch 104/120\n",
            "313/313 [==============================] - 5s 16ms/step - loss: 0.2529 - accuracy: 0.8924 - val_loss: 0.5290 - val_accuracy: 0.7950\n",
            "Epoch 105/120\n",
            "313/313 [==============================] - 5s 16ms/step - loss: 0.2532 - accuracy: 0.8955 - val_loss: 0.5494 - val_accuracy: 0.7900\n",
            "Epoch 106/120\n",
            "313/313 [==============================] - 5s 16ms/step - loss: 0.2504 - accuracy: 0.8964 - val_loss: 0.5493 - val_accuracy: 0.7960\n",
            "Epoch 107/120\n",
            "313/313 [==============================] - 5s 16ms/step - loss: 0.2447 - accuracy: 0.9004 - val_loss: 0.5593 - val_accuracy: 0.7950\n",
            "Epoch 108/120\n",
            "313/313 [==============================] - 5s 16ms/step - loss: 0.2494 - accuracy: 0.8950 - val_loss: 0.7070 - val_accuracy: 0.7770\n",
            "Epoch 109/120\n",
            "313/313 [==============================] - 5s 16ms/step - loss: 0.2532 - accuracy: 0.8948 - val_loss: 0.5592 - val_accuracy: 0.7970\n",
            "Epoch 110/120\n",
            "313/313 [==============================] - 5s 16ms/step - loss: 0.2390 - accuracy: 0.8982 - val_loss: 0.5934 - val_accuracy: 0.7930\n",
            "Epoch 111/120\n",
            "313/313 [==============================] - 5s 16ms/step - loss: 0.2441 - accuracy: 0.8998 - val_loss: 0.5624 - val_accuracy: 0.7930\n",
            "Epoch 112/120\n",
            "313/313 [==============================] - 5s 16ms/step - loss: 0.2455 - accuracy: 0.9005 - val_loss: 0.6114 - val_accuracy: 0.7900\n",
            "Epoch 113/120\n",
            "313/313 [==============================] - 5s 16ms/step - loss: 0.2413 - accuracy: 0.9007 - val_loss: 0.6090 - val_accuracy: 0.7840\n",
            "Epoch 114/120\n",
            "313/313 [==============================] - 5s 16ms/step - loss: 0.2321 - accuracy: 0.9037 - val_loss: 0.5637 - val_accuracy: 0.7990\n",
            "Epoch 115/120\n",
            "313/313 [==============================] - 5s 16ms/step - loss: 0.2438 - accuracy: 0.8996 - val_loss: 0.5529 - val_accuracy: 0.7960\n",
            "Epoch 116/120\n",
            "313/313 [==============================] - 5s 16ms/step - loss: 0.2363 - accuracy: 0.9011 - val_loss: 0.5442 - val_accuracy: 0.8060\n",
            "Epoch 117/120\n",
            "313/313 [==============================] - 5s 16ms/step - loss: 0.2222 - accuracy: 0.9074 - val_loss: 0.6299 - val_accuracy: 0.8020\n",
            "Epoch 118/120\n",
            "313/313 [==============================] - 5s 16ms/step - loss: 0.2317 - accuracy: 0.9066 - val_loss: 0.5296 - val_accuracy: 0.7940\n",
            "Epoch 119/120\n",
            "313/313 [==============================] - 5s 16ms/step - loss: 0.2209 - accuracy: 0.9073 - val_loss: 0.5812 - val_accuracy: 0.7940\n",
            "Epoch 120/120\n",
            "313/313 [==============================] - 5s 16ms/step - loss: 0.2243 - accuracy: 0.9086 - val_loss: 0.5748 - val_accuracy: 0.7950\n"
          ],
          "name": "stdout"
        }
      ]
    },
    {
      "cell_type": "code",
      "metadata": {
        "colab": {
          "base_uri": "https://localhost:8080/"
        },
        "id": "q6OfdqyDQbBT",
        "outputId": "1e293c0e-e5f5-4715-ce5e-f6dcc8559ce4"
      },
      "source": [
        "filename = 'chatbot.h5'\n",
        "model.save(filename)"
      ],
      "execution_count": 35,
      "outputs": [
        {
          "output_type": "stream",
          "text": [
            "/usr/local/lib/python3.7/dist-packages/tensorflow/python/keras/utils/generic_utils.py:497: CustomMaskWarning: Custom mask layers require a config and must override get_config. When loading, the custom mask layer must be passed to the custom_objects argument.\n",
            "  category=CustomMaskWarning)\n"
          ],
          "name": "stderr"
        }
      ]
    },
    {
      "cell_type": "code",
      "metadata": {
        "colab": {
          "base_uri": "https://localhost:8080/",
          "height": 313
        },
        "id": "yiaAhRINQbDw",
        "outputId": "bd706141-beec-47b5-ef0d-51a6cd11c3ca"
      },
      "source": [
        "import matplotlib.pyplot as plt\n",
        "%matplotlib inline\n",
        "print(history.history.keys())\n",
        "# summarize history for accuracy\n",
        "plt.plot(history.history['accuracy'])\n",
        "plt.plot(history.history['val_accuracy'])\n",
        "plt.title('model accuracy')\n",
        "plt.ylabel('accuracy')\n",
        "plt.xlabel('epoch')\n",
        "plt.legend(['train', 'test'], loc='upper left')\n",
        "plt.show()"
      ],
      "execution_count": 33,
      "outputs": [
        {
          "output_type": "stream",
          "text": [
            "dict_keys(['loss', 'accuracy', 'val_loss', 'val_accuracy'])\n"
          ],
          "name": "stdout"
        },
        {
          "output_type": "display_data",
          "data": {
            "image/png": "[encoded data removed]",
            "text/plain": [
              "<Figure size 432x288 with 1 Axes>"
            ]
          },
          "metadata": {
            "tags": [],
            "needs_background": "light"
          }
        }
      ]
    },
    {
      "cell_type": "code",
      "metadata": {
        "id": "y0VJtsVgbQku"
      },
      "source": [
        ""
      ],
      "execution_count": null,
      "outputs": []
    }
  ]
}