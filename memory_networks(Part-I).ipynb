{
 "cells": [
  {
   "cell_type": "markdown",
   "metadata": {},
   "source": [
    "## Memory Networks"
   ]
  },
  {
   "cell_type": "code",
   "execution_count": 1,
   "metadata": {},
   "outputs": [],
   "source": [
    "import numpy as np\n",
    "import pandas as pd\n",
    "import matplotlib.pyplot as plt\n",
    "%matplotlib inline\n",
    "\n",
    "import re\n",
    "\n",
    "from tensorflow.keras.models import Model\n",
    "from tensorflow.keras.layers import Input, Dense, Embedding, Concatenate, Activation, dot, Lambda, Reshape, Add\n",
    "from tensorflow.keras.preprocessing.text import Tokenizer\n",
    "from tensorflow.keras.preprocessing.sequence import pad_sequences\n",
    "from tensorflow.keras.optimizers import RMSprop\n",
    "import tensorflow.keras.backend as K"
   ]
  },
  {
   "cell_type": "markdown",
   "metadata": {},
   "source": [
    "## Single Supporting Fact"
   ]
  },
  {
   "cell_type": "code",
   "execution_count": 2,
   "metadata": {},
   "outputs": [],
   "source": [
    "data_dir = \"C:\\\\IMP\\\\datasets\\\\bAbI_datasets\\\\tasks_1-20_v1-2\\\\en\"\n",
    "\n",
    "def load_data(given_dir):\n",
    "    with open(\"{}\\\\{}\".format(data_dir, given_dir), encoding=\"utf8\") as f:\n",
    "        story = []\n",
    "        question = []\n",
    "        answer = []\n",
    "        data = []\n",
    "        for line in f:\n",
    "                number, sentence = line.split(\" \", 1)\n",
    "\n",
    "                # New story\n",
    "                if int(number) == 1:\n",
    "                    story = []\n",
    "\n",
    "                tokenized_story = re.findall(r\"[A-Za-z]+|[,.?]\", sentence.strip())\n",
    "\n",
    "                # Answer and the supporting number is in the line both seperated by a tab.\n",
    "                if \"\\t\" in sentence:\n",
    "                    question, answer, supporting_number = sentence.split(\"\\t\")\n",
    "                    tokenized_question = re.findall(r\"[A-Za-z]+|[,.?]\", question.strip())\n",
    "                    tokenized_answer = re.findall(r\"[A-Za-z]+|[,.?]\", answer.strip())\n",
    "                    story_so_far = [[str(i)] + s for i, s in enumerate(story)]\n",
    "                    data.append((story_so_far, tokenized_question, tokenized_answer))\n",
    "                else:\n",
    "                    story.append(tokenized_story)\n",
    "        \n",
    "        return data\n",
    "\n",
    "df_train = load_data(\"qa1_single-supporting-fact_train.txt\")\n",
    "df_test = load_data(\"qa1_single-supporting-fact_test.txt\")"
   ]
  },
  {
   "cell_type": "code",
   "execution_count": 3,
   "metadata": {},
   "outputs": [],
   "source": [
    "def get_mappings(data):\n",
    "    # Get the mappings\n",
    "    word2idx = {\"<PAD>\": 0}\n",
    "\n",
    "    count = 1\n",
    "    for stories, question, answer in data:\n",
    "        for story in stories:\n",
    "            for word in story:\n",
    "                if word not in word2idx:\n",
    "                    word2idx[word] = count \n",
    "                    count += 1\n",
    "        for word in question:\n",
    "            if word not in word2idx:\n",
    "                word2idx[word] = count \n",
    "                count += 1\n",
    "        for word in answer:\n",
    "            if word not in word2idx:\n",
    "                word2idx[word] = count \n",
    "                count += 1\n",
    "\n",
    "    idx2word = {v: k for k, v in word2idx.items()}\n",
    "    \n",
    "    return word2idx, idx2word"
   ]
  },
  {
   "cell_type": "code",
   "execution_count": 4,
   "metadata": {},
   "outputs": [],
   "source": [
    "all_data = df_train + df_test\n",
    "word2idx, idx2word = get_mappings(all_data)\n",
    "\n",
    "max_input_len = max([len(story) for s, q, a in all_data for story in s])\n",
    "max_query_len = max([len(story) for s, q, a in all_data for story in s])\n",
    "max_no_of_sentences_in_story = max([len(s) for s, q, a in all_data])"
   ]
  },
  {
   "cell_type": "code",
   "execution_count": 5,
   "metadata": {},
   "outputs": [],
   "source": [
    "def encode_mappings(data, max_input_len, max_query_len):\n",
    "    # Encode the mappings into the data\n",
    "    inputs, queries, outputs = [], [], []\n",
    "    for stories, question, answer in data:\n",
    "        inputs.append([[word2idx[word] for word in story] for story in stories])\n",
    "        queries.append([word2idx[word] for word in question])\n",
    "        outputs.append([word2idx[word] for word in answer])\n",
    "\n",
    "    # Pad sequences\n",
    "    inputs = [pad_sequences(x, maxlen=max_input_len) for x in inputs]\n",
    "    queries = pad_sequences(queries, maxlen=max_query_len)\n",
    "    \n",
    "    return inputs, queries, np.array(outputs)\n",
    "\n",
    "inputs_train, queries_train, outputs_train = encode_mappings(df_train, max_input_len, max_query_len)\n",
    "inputs_test, queries_test, outputs_test = encode_mappings(df_test, max_input_len, max_query_len)"
   ]
  },
  {
   "cell_type": "code",
   "execution_count": 6,
   "metadata": {},
   "outputs": [],
   "source": [
    "def stack_inputs(inputs, max_input_len, max_no_of_sentences_in_story):\n",
    "    \"\"\"\n",
    "    this is like 'pad_sequences' but for entire stories\n",
    "    we are padding each story with zeros so every story\n",
    "    has the same number of sentences\n",
    "    append an array of zeros of size:\n",
    "    (max_sentences - num sentences in story, max words in sentence)\n",
    "    \"\"\"\n",
    "    for i, story in enumerate(inputs):\n",
    "        inputs[i] = np.concatenate(\n",
    "          [\n",
    "            story, \n",
    "            np.zeros((max_no_of_sentences_in_story - story.shape[0], max_input_len), 'int')\n",
    "          ]\n",
    "        )\n",
    "    return np.stack(inputs)\n",
    "\n",
    "inputs_train = stack_inputs(inputs_train, max_input_len, max_no_of_sentences_in_story)\n",
    "inputs_test = stack_inputs(inputs_test, max_input_len, max_no_of_sentences_in_story)"
   ]
  },
  {
   "cell_type": "code",
   "execution_count": 7,
   "metadata": {},
   "outputs": [],
   "source": [
    "# Model parameters\n",
    "EMBEDDING_DIM = 15\n",
    "EPOCHS = 10\n",
    "BATCH_SIZE = 32\n",
    "\n",
    "vocab_size = len(word2idx) + 1"
   ]
  },
  {
   "cell_type": "code",
   "execution_count": 21,
   "metadata": {},
   "outputs": [],
   "source": [
    "# Shapes\n",
    "# embedded_story -> (vocab_size, max_no_of_sentences_in_story, EMBEDDING_DIM)\n",
    "# embedded_question -> (vocab_size, 1, EMBEDDING_DIM)\n",
    "\n",
    "# Model inputs\n",
    "input_story = Input((max_no_of_sentences_in_story, max_input_len))\n",
    "input_question = Input((max_query_len, ))\n",
    "\n",
    "# Model\n",
    "embedded_story = Embedding(vocab_size, EMBEDDING_DIM)(input_story)\n",
    "embedded_story = Lambda(lambda x: K.sum(x, axis=2))(embedded_story) # Take sum of word vectors in each sentence\n",
    "\n",
    "embedded_question = Embedding(vocab_size, EMBEDDING_DIM)(input_question)\n",
    "embedded_question = Lambda(lambda x: K.sum(x, axis=1))(embedded_question)\n",
    "\n",
    "embedded_question = Reshape((1, EMBEDDING_DIM))(embedded_question) # So that we can dot it with stories later\n",
    "\n",
    "# x = Dot(axes=2)([embedded_story, embedded_question])            \n",
    "x = dot([embedded_story, embedded_question], 2)\n",
    "x = Reshape((max_no_of_sentences_in_story, ))(x)              # Flatten\n",
    "x = Activation(\"softmax\")(x)\n",
    "\n",
    "story_weights = Reshape((max_no_of_sentences_in_story, 1))(x)         # Unflatten it again for dot product\n",
    "\n",
    "# x = Dot(axes=1)([story_weights, embedded_story])\n",
    "x = dot([story_weights, embedded_story], 1)\n",
    "x = Reshape((EMBEDDING_DIM, ))(x)\n",
    "x = Dense(vocab_size, activation=\"softmax\")(x)\n",
    "\n",
    "model = Model([input_story, input_question], x)\n",
    "\n",
    "model.compile(optimizer=RMSprop(lr=1e-2), loss=\"sparse_categorical_crossentropy\", metrics=[\"accuracy\"])"
   ]
  },
  {
   "cell_type": "code",
   "execution_count": 22,
   "metadata": {},
   "outputs": [
    {
     "name": "stdout",
     "output_type": "stream",
     "text": [
      "Model: \"model_15\"\n",
      "__________________________________________________________________________________________________\n",
      "Layer (type)                    Output Shape         Param #     Connected to                     \n",
      "==================================================================================================\n",
      "input_6 (InputLayer)            [(None, 8)]          0                                            \n",
      "__________________________________________________________________________________________________\n",
      "input_5 (InputLayer)            [(None, 10, 8)]      0                                            \n",
      "__________________________________________________________________________________________________\n",
      "embedding_5 (Embedding)         (None, 8, 15)        495         input_6[0][0]                    \n",
      "__________________________________________________________________________________________________\n",
      "embedding_4 (Embedding)         (None, 10, 8, 15)    495         input_5[0][0]                    \n",
      "__________________________________________________________________________________________________\n",
      "lambda_5 (Lambda)               (None, 15)           0           embedding_5[0][0]                \n",
      "__________________________________________________________________________________________________\n",
      "lambda_4 (Lambda)               (None, 10, 15)       0           embedding_4[0][0]                \n",
      "__________________________________________________________________________________________________\n",
      "reshape_8 (Reshape)             (None, 1, 15)        0           lambda_5[0][0]                   \n",
      "__________________________________________________________________________________________________\n",
      "dot_4 (Dot)                     (None, 10, 1)        0           lambda_4[0][0]                   \n",
      "                                                                 reshape_8[0][0]                  \n",
      "__________________________________________________________________________________________________\n",
      "reshape_9 (Reshape)             (None, 10)           0           dot_4[0][0]                      \n",
      "__________________________________________________________________________________________________\n",
      "activation_2 (Activation)       (None, 10)           0           reshape_9[0][0]                  \n",
      "__________________________________________________________________________________________________\n",
      "reshape_10 (Reshape)            (None, 10, 1)        0           activation_2[0][0]               \n",
      "__________________________________________________________________________________________________\n",
      "dot_5 (Dot)                     (None, 1, 15)        0           reshape_10[0][0]                 \n",
      "                                                                 lambda_4[0][0]                   \n",
      "__________________________________________________________________________________________________\n",
      "reshape_11 (Reshape)            (None, 15)           0           dot_5[0][0]                      \n",
      "__________________________________________________________________________________________________\n",
      "dense_2 (Dense)                 (None, 33)           528         reshape_11[0][0]                 \n",
      "==================================================================================================\n",
      "Total params: 1,518\n",
      "Trainable params: 1,518\n",
      "Non-trainable params: 0\n",
      "__________________________________________________________________________________________________\n"
     ]
    }
   ],
   "source": [
    "model.summary()"
   ]
  },
  {
   "cell_type": "code",
   "execution_count": 23,
   "metadata": {},
   "outputs": [
    {
     "name": "stdout",
     "output_type": "stream",
     "text": [
      "Train on 1000 samples, validate on 1000 samples\n",
      "Epoch 1/10\n",
      "1000/1000 [==============================] - 1s 1ms/sample - loss: 2.0304 - accuracy: 0.1810 - val_loss: 1.8076 - val_accuracy: 0.2160\n",
      "Epoch 2/10\n",
      "1000/1000 [==============================] - 0s 350us/sample - loss: 1.6593 - accuracy: 0.3930 - val_loss: 1.6214 - val_accuracy: 0.3350\n",
      "Epoch 3/10\n",
      "1000/1000 [==============================] - 0s 248us/sample - loss: 1.3958 - accuracy: 0.5410 - val_loss: 1.3291 - val_accuracy: 0.5510\n",
      "Epoch 4/10\n",
      "1000/1000 [==============================] - 0s 209us/sample - loss: 1.0563 - accuracy: 0.6740 - val_loss: 1.0255 - val_accuracy: 0.6820\n",
      "Epoch 5/10\n",
      "1000/1000 [==============================] - 0s 227us/sample - loss: 0.6265 - accuracy: 0.8210 - val_loss: 0.4933 - val_accuracy: 0.8650\n",
      "Epoch 6/10\n",
      "1000/1000 [==============================] - 0s 244us/sample - loss: 0.2724 - accuracy: 0.9370 - val_loss: 0.4337 - val_accuracy: 0.8610\n",
      "Epoch 7/10\n",
      "1000/1000 [==============================] - 0s 213us/sample - loss: 0.1168 - accuracy: 0.9760 - val_loss: 0.1239 - val_accuracy: 0.9670\n",
      "Epoch 8/10\n",
      "1000/1000 [==============================] - 0s 208us/sample - loss: 0.0859 - accuracy: 0.9810 - val_loss: 0.0943 - val_accuracy: 0.9680\n",
      "Epoch 9/10\n",
      "1000/1000 [==============================] - 0s 342us/sample - loss: 0.0315 - accuracy: 0.9950 - val_loss: 0.4407 - val_accuracy: 0.9070\n",
      "Epoch 10/10\n",
      "1000/1000 [==============================] - 0s 398us/sample - loss: 0.0466 - accuracy: 0.9870 - val_loss: 0.0374 - val_accuracy: 0.9880\n"
     ]
    }
   ],
   "source": [
    "result = model.fit([inputs_train, queries_train], outputs_train, epochs=EPOCHS, batch_size=BATCH_SIZE, \n",
    "                   validation_data=([inputs_test, queries_test], outputs_test))"
   ]
  },
  {
   "cell_type": "code",
   "execution_count": 27,
   "metadata": {},
   "outputs": [
    {
     "name": "stdout",
     "output_type": "stream",
     "text": [
      "Story:\n",
      "\n",
      "0.00005 \t 0 Sandra travelled to the office .\n",
      "0.00031 \t 1 Sandra went to the garden .\n",
      "0.99698 \t 2 Mary went back to the garden .\n",
      "0.00266 \t 3 Daniel went to the kitchen .\n",
      "Question: Where is Mary ?\n",
      "Answer: garden\n",
      "Prediction:  garden\n"
     ]
    }
   ],
   "source": [
    "# Check how we weight each input sentence given a story and question\n",
    "weights_model = Model([input_story, input_question], story_weights)\n",
    "result_model = Model([input_story, input_question], x)\n",
    "\n",
    "# choose a random story\n",
    "story_idx = np.random.choice(len(inputs_train))\n",
    "\n",
    "# get weights from debug model\n",
    "i = inputs_train[story_idx:story_idx+1]\n",
    "q = queries_train[story_idx:story_idx+1]\n",
    "weights = weights_model.predict([i, q]).flatten()\n",
    "idx = result_model.predict([i, q])\n",
    "\n",
    "story, question, ans = df_train[story_idx]\n",
    "\n",
    "print(\"Story:\\n\")\n",
    "for i, line in enumerate(story):\n",
    "    print(\"{:1.5f}\".format(weights[i]), \"\\t\", \" \".join(line))\n",
    "\n",
    "print(\"Question:\", \" \".join(question))\n",
    "print(\"Answer:\", ans[0])\n",
    "print(\"Prediction: \", idx2word[np.argmax(idx)])"
   ]
  }
 ],
 "metadata": {
  "kernelspec": {
   "display_name": "my_env",
   "language": "python",
   "name": "my_env"
  },
  "language_info": {
   "codemirror_mode": {
    "name": "ipython",
    "version": 3
   },
   "file_extension": ".py",
   "mimetype": "text/x-python",
   "name": "python",
   "nbconvert_exporter": "python",
   "pygments_lexer": "ipython3",
   "version": "3.7.3"
  }
 },
 "nbformat": 4,
 "nbformat_minor": 4
}
